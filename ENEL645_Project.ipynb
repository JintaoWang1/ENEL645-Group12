{
  "cells": [
    {
      "cell_type": "markdown",
      "metadata": {
        "id": "view-in-github",
        "colab_type": "text"
      },
      "source": [
        "<a href=\"https://colab.research.google.com/github/JintaoWang1/ENEL645-Group12/blob/main/ENEL645_Project.ipynb\" target=\"_parent\"><img src=\"https://colab.research.google.com/assets/colab-badge.svg\" alt=\"Open In Colab\"/></a>"
      ]
    },
    {
      "cell_type": "markdown",
      "source": [
        "Installations and imports"
      ],
      "metadata": {
        "id": "qb9n_TFYnwpN"
      }
    },
    {
      "cell_type": "code",
      "execution_count": null,
      "metadata": {
        "id": "m8HWt4rlM0WB",
        "colab": {
          "base_uri": "https://localhost:8080/"
        },
        "outputId": "fac7430c-f5f8-4959-80a2-a3929a74303c"
      },
      "outputs": [
        {
          "output_type": "stream",
          "name": "stdout",
          "text": [
            "Requirement already satisfied: yake in /usr/local/lib/python3.7/dist-packages (0.4.8)\n",
            "Requirement already satisfied: segtok in /usr/local/lib/python3.7/dist-packages (from yake) (1.5.11)\n",
            "Requirement already satisfied: jellyfish in /usr/local/lib/python3.7/dist-packages (from yake) (0.9.0)\n",
            "Requirement already satisfied: tabulate in /usr/local/lib/python3.7/dist-packages (from yake) (0.8.9)\n",
            "Requirement already satisfied: networkx in /usr/local/lib/python3.7/dist-packages (from yake) (2.6.3)\n",
            "Requirement already satisfied: click>=6.0 in /usr/local/lib/python3.7/dist-packages (from yake) (7.1.2)\n",
            "Requirement already satisfied: numpy in /usr/local/lib/python3.7/dist-packages (from yake) (1.21.5)\n",
            "Requirement already satisfied: regex in /usr/local/lib/python3.7/dist-packages (from segtok->yake) (2019.12.20)\n",
            "Requirement already satisfied: stop-words in /usr/local/lib/python3.7/dist-packages (2018.7.23)\n"
          ]
        }
      ],
      "source": [
        "!pip install yake\n",
        "!pip install stop-words\n",
        "import numpy as np\n",
        "import pandas as pd \n",
        "from sklearn import feature_extraction, linear_model, model_selection, preprocessing\n",
        "import yake\n",
        "from operator import itemgetter\n",
        "from sklearn.metrics import confusion_matrix\n",
        "import seaborn as sns\n",
        "import matplotlib.pyplot as plt\n",
        "from stop_words import get_stop_words\n",
        "from nltk.corpus import stopwords\n",
        "import nltk\n",
        "from nltk.tokenize import word_tokenize\n",
        "from nltk.stem.porter import PorterStemmer"
      ]
    },
    {
      "cell_type": "markdown",
      "source": [
        "**Loading the data into training and testing dataframes**"
      ],
      "metadata": {
        "id": "k55eAs_tn5J2"
      }
    },
    {
      "cell_type": "code",
      "execution_count": null,
      "metadata": {
        "id": "kBeTRWGCM4KF"
      },
      "outputs": [],
      "source": [
        "train_df = pd.read_csv(\"/content/ENEL645/train.csv\")\n",
        "test_df = pd.read_csv(\"/content/ENEL645/test.csv\")"
      ]
    },
    {
      "cell_type": "markdown",
      "source": [
        "**Dataset exploration**"
      ],
      "metadata": {
        "id": "UAF-vgFIoEpe"
      }
    },
    {
      "cell_type": "code",
      "source": [
        "display(train_df)"
      ],
      "metadata": {
        "colab": {
          "base_uri": "https://localhost:8080/",
          "height": 424
        },
        "id": "NgX_G4tf-64V",
        "outputId": "97e1ab2b-55b9-4805-9ce3-c9c98a4928be"
      },
      "execution_count": null,
      "outputs": [
        {
          "output_type": "display_data",
          "data": {
            "text/plain": [
              "         id keyword location  \\\n",
              "0         1     NaN      NaN   \n",
              "1         4     NaN      NaN   \n",
              "2         5     NaN      NaN   \n",
              "3         6     NaN      NaN   \n",
              "4         7     NaN      NaN   \n",
              "...     ...     ...      ...   \n",
              "7608  10869     NaN      NaN   \n",
              "7609  10870     NaN      NaN   \n",
              "7610  10871     NaN      NaN   \n",
              "7611  10872     NaN      NaN   \n",
              "7612  10873     NaN      NaN   \n",
              "\n",
              "                                                   text  target  \n",
              "0     Our Deeds are the Reason of this #earthquake M...       1  \n",
              "1                Forest fire near La Ronge Sask. Canada       1  \n",
              "2     All residents asked to 'shelter in place' are ...       1  \n",
              "3     13,000 people receive #wildfires evacuation or...       1  \n",
              "4     Just got sent this photo from Ruby #Alaska as ...       1  \n",
              "...                                                 ...     ...  \n",
              "7608  Two giant cranes holding a bridge collapse int...       1  \n",
              "7609  @aria_ahrary @TheTawniest The out of control w...       1  \n",
              "7610  M1.94 [01:04 UTC]?5km S of Volcano Hawaii. htt...       1  \n",
              "7611  Police investigating after an e-bike collided ...       1  \n",
              "7612  The Latest: More Homes Razed by Northern Calif...       1  \n",
              "\n",
              "[7613 rows x 5 columns]"
            ],
            "text/html": [
              "\n",
              "  <div id=\"df-426c5e8a-b9bb-4bc2-9522-e579f9ddf8ed\">\n",
              "    <div class=\"colab-df-container\">\n",
              "      <div>\n",
              "<style scoped>\n",
              "    .dataframe tbody tr th:only-of-type {\n",
              "        vertical-align: middle;\n",
              "    }\n",
              "\n",
              "    .dataframe tbody tr th {\n",
              "        vertical-align: top;\n",
              "    }\n",
              "\n",
              "    .dataframe thead th {\n",
              "        text-align: right;\n",
              "    }\n",
              "</style>\n",
              "<table border=\"1\" class=\"dataframe\">\n",
              "  <thead>\n",
              "    <tr style=\"text-align: right;\">\n",
              "      <th></th>\n",
              "      <th>id</th>\n",
              "      <th>keyword</th>\n",
              "      <th>location</th>\n",
              "      <th>text</th>\n",
              "      <th>target</th>\n",
              "    </tr>\n",
              "  </thead>\n",
              "  <tbody>\n",
              "    <tr>\n",
              "      <th>0</th>\n",
              "      <td>1</td>\n",
              "      <td>NaN</td>\n",
              "      <td>NaN</td>\n",
              "      <td>Our Deeds are the Reason of this #earthquake M...</td>\n",
              "      <td>1</td>\n",
              "    </tr>\n",
              "    <tr>\n",
              "      <th>1</th>\n",
              "      <td>4</td>\n",
              "      <td>NaN</td>\n",
              "      <td>NaN</td>\n",
              "      <td>Forest fire near La Ronge Sask. Canada</td>\n",
              "      <td>1</td>\n",
              "    </tr>\n",
              "    <tr>\n",
              "      <th>2</th>\n",
              "      <td>5</td>\n",
              "      <td>NaN</td>\n",
              "      <td>NaN</td>\n",
              "      <td>All residents asked to 'shelter in place' are ...</td>\n",
              "      <td>1</td>\n",
              "    </tr>\n",
              "    <tr>\n",
              "      <th>3</th>\n",
              "      <td>6</td>\n",
              "      <td>NaN</td>\n",
              "      <td>NaN</td>\n",
              "      <td>13,000 people receive #wildfires evacuation or...</td>\n",
              "      <td>1</td>\n",
              "    </tr>\n",
              "    <tr>\n",
              "      <th>4</th>\n",
              "      <td>7</td>\n",
              "      <td>NaN</td>\n",
              "      <td>NaN</td>\n",
              "      <td>Just got sent this photo from Ruby #Alaska as ...</td>\n",
              "      <td>1</td>\n",
              "    </tr>\n",
              "    <tr>\n",
              "      <th>...</th>\n",
              "      <td>...</td>\n",
              "      <td>...</td>\n",
              "      <td>...</td>\n",
              "      <td>...</td>\n",
              "      <td>...</td>\n",
              "    </tr>\n",
              "    <tr>\n",
              "      <th>7608</th>\n",
              "      <td>10869</td>\n",
              "      <td>NaN</td>\n",
              "      <td>NaN</td>\n",
              "      <td>Two giant cranes holding a bridge collapse int...</td>\n",
              "      <td>1</td>\n",
              "    </tr>\n",
              "    <tr>\n",
              "      <th>7609</th>\n",
              "      <td>10870</td>\n",
              "      <td>NaN</td>\n",
              "      <td>NaN</td>\n",
              "      <td>@aria_ahrary @TheTawniest The out of control w...</td>\n",
              "      <td>1</td>\n",
              "    </tr>\n",
              "    <tr>\n",
              "      <th>7610</th>\n",
              "      <td>10871</td>\n",
              "      <td>NaN</td>\n",
              "      <td>NaN</td>\n",
              "      <td>M1.94 [01:04 UTC]?5km S of Volcano Hawaii. htt...</td>\n",
              "      <td>1</td>\n",
              "    </tr>\n",
              "    <tr>\n",
              "      <th>7611</th>\n",
              "      <td>10872</td>\n",
              "      <td>NaN</td>\n",
              "      <td>NaN</td>\n",
              "      <td>Police investigating after an e-bike collided ...</td>\n",
              "      <td>1</td>\n",
              "    </tr>\n",
              "    <tr>\n",
              "      <th>7612</th>\n",
              "      <td>10873</td>\n",
              "      <td>NaN</td>\n",
              "      <td>NaN</td>\n",
              "      <td>The Latest: More Homes Razed by Northern Calif...</td>\n",
              "      <td>1</td>\n",
              "    </tr>\n",
              "  </tbody>\n",
              "</table>\n",
              "<p>7613 rows × 5 columns</p>\n",
              "</div>\n",
              "      <button class=\"colab-df-convert\" onclick=\"convertToInteractive('df-426c5e8a-b9bb-4bc2-9522-e579f9ddf8ed')\"\n",
              "              title=\"Convert this dataframe to an interactive table.\"\n",
              "              style=\"display:none;\">\n",
              "        \n",
              "  <svg xmlns=\"http://www.w3.org/2000/svg\" height=\"24px\"viewBox=\"0 0 24 24\"\n",
              "       width=\"24px\">\n",
              "    <path d=\"M0 0h24v24H0V0z\" fill=\"none\"/>\n",
              "    <path d=\"M18.56 5.44l.94 2.06.94-2.06 2.06-.94-2.06-.94-.94-2.06-.94 2.06-2.06.94zm-11 1L8.5 8.5l.94-2.06 2.06-.94-2.06-.94L8.5 2.5l-.94 2.06-2.06.94zm10 10l.94 2.06.94-2.06 2.06-.94-2.06-.94-.94-2.06-.94 2.06-2.06.94z\"/><path d=\"M17.41 7.96l-1.37-1.37c-.4-.4-.92-.59-1.43-.59-.52 0-1.04.2-1.43.59L10.3 9.45l-7.72 7.72c-.78.78-.78 2.05 0 2.83L4 21.41c.39.39.9.59 1.41.59.51 0 1.02-.2 1.41-.59l7.78-7.78 2.81-2.81c.8-.78.8-2.07 0-2.86zM5.41 20L4 18.59l7.72-7.72 1.47 1.35L5.41 20z\"/>\n",
              "  </svg>\n",
              "      </button>\n",
              "      \n",
              "  <style>\n",
              "    .colab-df-container {\n",
              "      display:flex;\n",
              "      flex-wrap:wrap;\n",
              "      gap: 12px;\n",
              "    }\n",
              "\n",
              "    .colab-df-convert {\n",
              "      background-color: #E8F0FE;\n",
              "      border: none;\n",
              "      border-radius: 50%;\n",
              "      cursor: pointer;\n",
              "      display: none;\n",
              "      fill: #1967D2;\n",
              "      height: 32px;\n",
              "      padding: 0 0 0 0;\n",
              "      width: 32px;\n",
              "    }\n",
              "\n",
              "    .colab-df-convert:hover {\n",
              "      background-color: #E2EBFA;\n",
              "      box-shadow: 0px 1px 2px rgba(60, 64, 67, 0.3), 0px 1px 3px 1px rgba(60, 64, 67, 0.15);\n",
              "      fill: #174EA6;\n",
              "    }\n",
              "\n",
              "    [theme=dark] .colab-df-convert {\n",
              "      background-color: #3B4455;\n",
              "      fill: #D2E3FC;\n",
              "    }\n",
              "\n",
              "    [theme=dark] .colab-df-convert:hover {\n",
              "      background-color: #434B5C;\n",
              "      box-shadow: 0px 1px 3px 1px rgba(0, 0, 0, 0.15);\n",
              "      filter: drop-shadow(0px 1px 2px rgba(0, 0, 0, 0.3));\n",
              "      fill: #FFFFFF;\n",
              "    }\n",
              "  </style>\n",
              "\n",
              "      <script>\n",
              "        const buttonEl =\n",
              "          document.querySelector('#df-426c5e8a-b9bb-4bc2-9522-e579f9ddf8ed button.colab-df-convert');\n",
              "        buttonEl.style.display =\n",
              "          google.colab.kernel.accessAllowed ? 'block' : 'none';\n",
              "\n",
              "        async function convertToInteractive(key) {\n",
              "          const element = document.querySelector('#df-426c5e8a-b9bb-4bc2-9522-e579f9ddf8ed');\n",
              "          const dataTable =\n",
              "            await google.colab.kernel.invokeFunction('convertToInteractive',\n",
              "                                                     [key], {});\n",
              "          if (!dataTable) return;\n",
              "\n",
              "          const docLinkHtml = 'Like what you see? Visit the ' +\n",
              "            '<a target=\"_blank\" href=https://colab.research.google.com/notebooks/data_table.ipynb>data table notebook</a>'\n",
              "            + ' to learn more about interactive tables.';\n",
              "          element.innerHTML = '';\n",
              "          dataTable['output_type'] = 'display_data';\n",
              "          await google.colab.output.renderOutput(dataTable, element);\n",
              "          const docLink = document.createElement('div');\n",
              "          docLink.innerHTML = docLinkHtml;\n",
              "          element.appendChild(docLink);\n",
              "        }\n",
              "      </script>\n",
              "    </div>\n",
              "  </div>\n",
              "  "
            ]
          },
          "metadata": {}
        }
      ]
    },
    {
      "cell_type": "code",
      "source": [
        "#Checking to see how many NaN values are in the dataset\n",
        "\n",
        "train_df.isna().sum()"
      ],
      "metadata": {
        "colab": {
          "base_uri": "https://localhost:8080/"
        },
        "id": "4pO-_8TmmoJF",
        "outputId": "54e10347-7d21-4815-ac34-40ee94ddb565"
      },
      "execution_count": null,
      "outputs": [
        {
          "output_type": "execute_result",
          "data": {
            "text/plain": [
              "id             0\n",
              "keyword       61\n",
              "location    2533\n",
              "text           0\n",
              "target         0\n",
              "dtype: int64"
            ]
          },
          "metadata": {},
          "execution_count": 4
        }
      ]
    },
    {
      "cell_type": "code",
      "source": [
        "#Checking for an imbalanced dataset\n",
        "\n",
        "train_df.target.value_counts()"
      ],
      "metadata": {
        "colab": {
          "base_uri": "https://localhost:8080/"
        },
        "id": "Su6p6NC6V4hX",
        "outputId": "5445917c-6c17-4eb9-db6e-4d49f72db8ea"
      },
      "execution_count": null,
      "outputs": [
        {
          "output_type": "execute_result",
          "data": {
            "text/plain": [
              "0    4342\n",
              "1    3271\n",
              "Name: target, dtype: int64"
            ]
          },
          "metadata": {},
          "execution_count": 5
        }
      ]
    },
    {
      "cell_type": "markdown",
      "source": [
        "**Extracting keywords to fill NaN values**"
      ],
      "metadata": {
        "id": "veVvpOGto-ve"
      }
    },
    {
      "cell_type": "code",
      "execution_count": null,
      "metadata": {
        "id": "G27nP7a0NhbE"
      },
      "outputs": [],
      "source": [
        "#Extracting keywords for the training set and test sets\n",
        "\n",
        "extractor = yake.KeywordExtractor(n=2)\n",
        "\n",
        "for index, row in train_df.iterrows():\n",
        "  if pd.isna(row['keyword']):\n",
        "    keywords = extractor.extract_keywords(row[\"text\"])\n",
        "    row[\"keyword\"] = max(keywords, key=itemgetter(1))[0]\n",
        "    train_df.at[index, \"keyword\"] = row[\"keyword\"]\n",
        "\n",
        "for index, row in test_df.iterrows():\n",
        "  if pd.isna(row['keyword']):\n",
        "    keywords = extractor.extract_keywords(row[\"text\"])\n",
        "    if not keywords:\n",
        "      row[\"keyword\"] = \"null\"\n",
        "    else:\n",
        "      row[\"keyword\"] = max(keywords, key=itemgetter(1))[0]\n",
        "    test_df.at[index, \"keyword\"] = row[\"keyword\"]"
      ]
    },
    {
      "cell_type": "markdown",
      "source": [
        "**Data preprocessing**"
      ],
      "metadata": {
        "id": "pm8iGJWGpK2m"
      }
    },
    {
      "cell_type": "code",
      "execution_count": null,
      "metadata": {
        "id": "Em63p9i_QV94",
        "colab": {
          "base_uri": "https://localhost:8080/"
        },
        "outputId": "c98ced3d-5fc7-40e5-c784-eed9449a93f5"
      },
      "outputs": [
        {
          "output_type": "stream",
          "name": "stdout",
          "text": [
            "[nltk_data] Downloading package punkt to /root/nltk_data...\n",
            "[nltk_data]   Package punkt is already up-to-date!\n"
          ]
        }
      ],
      "source": [
        "#Tokenization\n",
        "\n",
        "nltk.download('punkt')\n",
        "train_tokens = train_df.apply(lambda row: nltk.word_tokenize(row['text']), axis=1)\n",
        "test_tokens = test_df.apply(lambda row: nltk.word_tokenize(row['text']), axis=1)"
      ]
    },
    {
      "cell_type": "code",
      "execution_count": null,
      "metadata": {
        "id": "CgMI-IEyeCpG",
        "colab": {
          "base_uri": "https://localhost:8080/"
        },
        "outputId": "00961373-5e5c-4039-b322-23198a97bfc2"
      },
      "outputs": [
        {
          "output_type": "stream",
          "name": "stdout",
          "text": [
            "[nltk_data] Downloading package stopwords to /root/nltk_data...\n",
            "[nltk_data]   Package stopwords is already up-to-date!\n"
          ]
        }
      ],
      "source": [
        "#Stop word removal. Added additional cases from manual examination of the dataset\n",
        "\n",
        "nltk.download('stopwords')\n",
        "\n",
        "eng_stopwords = stopwords.words('english') \n",
        "        \n",
        "stop_en = list(get_stop_words('en'))\n",
        "stop_en.extend(list(stopwords.words('english')) )\n",
        "stop_en.extend(['.',',','', 'i i','?','\\'\\'',\"''\",'y','S','@','*','out','==','df','e.g.','\\'m','\\[',\"'m\",':', ')', '(','n\\'t', '\\'','``','``','\\'s', \n",
        "                'https://','-', \"#\", \"^\", \"§\", \"║\", \"«\", \"╔\", \"!\", \"...\", \"//t\", \"//\", \"http\", \"Ã\", \"·\", \"´\", \"[\", \"]\", \"=\", \"&\", \">\", \"<\", \"http://t.co/\", \"//t.co\",\"Â‰Ã\"])\n",
        "train_stopwords=train_tokens.apply(lambda words: [word for word in words if word not in stop_en])\n",
        "test_stopwords=test_tokens.apply(lambda words: [word for word in words if word not in stop_en])"
      ]
    },
    {
      "cell_type": "code",
      "execution_count": null,
      "metadata": {
        "id": "zXilw2AKiyeS"
      },
      "outputs": [],
      "source": [
        "#Stemming\n",
        "\n",
        "ps=PorterStemmer()\n",
        "train_stemming=train_stopwords.apply(lambda x: [ps.stem(word) for word in x])\n",
        "test_stemming=test_stopwords.apply(lambda x: [ps.stem(word) for word in x])"
      ]
    },
    {
      "cell_type": "code",
      "execution_count": null,
      "metadata": {
        "id": "ZKTh_oIsjmKS"
      },
      "outputs": [],
      "source": [
        "#Saving the preprocessed text back to the dataframe\n",
        "\n",
        "train_df['text'] = train_stemming\n",
        "test_df['text'] = test_stemming"
      ]
    },
    {
      "cell_type": "code",
      "source": [
        "train_df.head()"
      ],
      "metadata": {
        "colab": {
          "base_uri": "https://localhost:8080/",
          "height": 206
        },
        "id": "IiMobi-5CDX0",
        "outputId": "4f4b1aa8-71fc-4407-c463-8d4a65688e70"
      },
      "execution_count": null,
      "outputs": [
        {
          "output_type": "execute_result",
          "data": {
            "text/plain": [
              "   id     keyword location                                               text  \\\n",
              "0   1  earthquake      NaN  [our, deed, reason, earthquak, may, allah, for...   \n",
              "1   4        fire      NaN       [forest, fire, near, La, rong, sask, canada]   \n",
              "2   5  evacuation      NaN  [all, resid, ask, 'shelter, place, notifi, off...   \n",
              "3   6  evacuation      NaN  [13,000, peopl, receiv, wildfir, evacu, order,...   \n",
              "4   7       photo      NaN  [just, got, sent, photo, rubi, alaska, smoke, ...   \n",
              "\n",
              "   target  \n",
              "0       1  \n",
              "1       1  \n",
              "2       1  \n",
              "3       1  \n",
              "4       1  "
            ],
            "text/html": [
              "\n",
              "  <div id=\"df-1133df4a-c39e-4f3c-8db6-b145e832f199\">\n",
              "    <div class=\"colab-df-container\">\n",
              "      <div>\n",
              "<style scoped>\n",
              "    .dataframe tbody tr th:only-of-type {\n",
              "        vertical-align: middle;\n",
              "    }\n",
              "\n",
              "    .dataframe tbody tr th {\n",
              "        vertical-align: top;\n",
              "    }\n",
              "\n",
              "    .dataframe thead th {\n",
              "        text-align: right;\n",
              "    }\n",
              "</style>\n",
              "<table border=\"1\" class=\"dataframe\">\n",
              "  <thead>\n",
              "    <tr style=\"text-align: right;\">\n",
              "      <th></th>\n",
              "      <th>id</th>\n",
              "      <th>keyword</th>\n",
              "      <th>location</th>\n",
              "      <th>text</th>\n",
              "      <th>target</th>\n",
              "    </tr>\n",
              "  </thead>\n",
              "  <tbody>\n",
              "    <tr>\n",
              "      <th>0</th>\n",
              "      <td>1</td>\n",
              "      <td>earthquake</td>\n",
              "      <td>NaN</td>\n",
              "      <td>[our, deed, reason, earthquak, may, allah, for...</td>\n",
              "      <td>1</td>\n",
              "    </tr>\n",
              "    <tr>\n",
              "      <th>1</th>\n",
              "      <td>4</td>\n",
              "      <td>fire</td>\n",
              "      <td>NaN</td>\n",
              "      <td>[forest, fire, near, La, rong, sask, canada]</td>\n",
              "      <td>1</td>\n",
              "    </tr>\n",
              "    <tr>\n",
              "      <th>2</th>\n",
              "      <td>5</td>\n",
              "      <td>evacuation</td>\n",
              "      <td>NaN</td>\n",
              "      <td>[all, resid, ask, 'shelter, place, notifi, off...</td>\n",
              "      <td>1</td>\n",
              "    </tr>\n",
              "    <tr>\n",
              "      <th>3</th>\n",
              "      <td>6</td>\n",
              "      <td>evacuation</td>\n",
              "      <td>NaN</td>\n",
              "      <td>[13,000, peopl, receiv, wildfir, evacu, order,...</td>\n",
              "      <td>1</td>\n",
              "    </tr>\n",
              "    <tr>\n",
              "      <th>4</th>\n",
              "      <td>7</td>\n",
              "      <td>photo</td>\n",
              "      <td>NaN</td>\n",
              "      <td>[just, got, sent, photo, rubi, alaska, smoke, ...</td>\n",
              "      <td>1</td>\n",
              "    </tr>\n",
              "  </tbody>\n",
              "</table>\n",
              "</div>\n",
              "      <button class=\"colab-df-convert\" onclick=\"convertToInteractive('df-1133df4a-c39e-4f3c-8db6-b145e832f199')\"\n",
              "              title=\"Convert this dataframe to an interactive table.\"\n",
              "              style=\"display:none;\">\n",
              "        \n",
              "  <svg xmlns=\"http://www.w3.org/2000/svg\" height=\"24px\"viewBox=\"0 0 24 24\"\n",
              "       width=\"24px\">\n",
              "    <path d=\"M0 0h24v24H0V0z\" fill=\"none\"/>\n",
              "    <path d=\"M18.56 5.44l.94 2.06.94-2.06 2.06-.94-2.06-.94-.94-2.06-.94 2.06-2.06.94zm-11 1L8.5 8.5l.94-2.06 2.06-.94-2.06-.94L8.5 2.5l-.94 2.06-2.06.94zm10 10l.94 2.06.94-2.06 2.06-.94-2.06-.94-.94-2.06-.94 2.06-2.06.94z\"/><path d=\"M17.41 7.96l-1.37-1.37c-.4-.4-.92-.59-1.43-.59-.52 0-1.04.2-1.43.59L10.3 9.45l-7.72 7.72c-.78.78-.78 2.05 0 2.83L4 21.41c.39.39.9.59 1.41.59.51 0 1.02-.2 1.41-.59l7.78-7.78 2.81-2.81c.8-.78.8-2.07 0-2.86zM5.41 20L4 18.59l7.72-7.72 1.47 1.35L5.41 20z\"/>\n",
              "  </svg>\n",
              "      </button>\n",
              "      \n",
              "  <style>\n",
              "    .colab-df-container {\n",
              "      display:flex;\n",
              "      flex-wrap:wrap;\n",
              "      gap: 12px;\n",
              "    }\n",
              "\n",
              "    .colab-df-convert {\n",
              "      background-color: #E8F0FE;\n",
              "      border: none;\n",
              "      border-radius: 50%;\n",
              "      cursor: pointer;\n",
              "      display: none;\n",
              "      fill: #1967D2;\n",
              "      height: 32px;\n",
              "      padding: 0 0 0 0;\n",
              "      width: 32px;\n",
              "    }\n",
              "\n",
              "    .colab-df-convert:hover {\n",
              "      background-color: #E2EBFA;\n",
              "      box-shadow: 0px 1px 2px rgba(60, 64, 67, 0.3), 0px 1px 3px 1px rgba(60, 64, 67, 0.15);\n",
              "      fill: #174EA6;\n",
              "    }\n",
              "\n",
              "    [theme=dark] .colab-df-convert {\n",
              "      background-color: #3B4455;\n",
              "      fill: #D2E3FC;\n",
              "    }\n",
              "\n",
              "    [theme=dark] .colab-df-convert:hover {\n",
              "      background-color: #434B5C;\n",
              "      box-shadow: 0px 1px 3px 1px rgba(0, 0, 0, 0.15);\n",
              "      filter: drop-shadow(0px 1px 2px rgba(0, 0, 0, 0.3));\n",
              "      fill: #FFFFFF;\n",
              "    }\n",
              "  </style>\n",
              "\n",
              "      <script>\n",
              "        const buttonEl =\n",
              "          document.querySelector('#df-1133df4a-c39e-4f3c-8db6-b145e832f199 button.colab-df-convert');\n",
              "        buttonEl.style.display =\n",
              "          google.colab.kernel.accessAllowed ? 'block' : 'none';\n",
              "\n",
              "        async function convertToInteractive(key) {\n",
              "          const element = document.querySelector('#df-1133df4a-c39e-4f3c-8db6-b145e832f199');\n",
              "          const dataTable =\n",
              "            await google.colab.kernel.invokeFunction('convertToInteractive',\n",
              "                                                     [key], {});\n",
              "          if (!dataTable) return;\n",
              "\n",
              "          const docLinkHtml = 'Like what you see? Visit the ' +\n",
              "            '<a target=\"_blank\" href=https://colab.research.google.com/notebooks/data_table.ipynb>data table notebook</a>'\n",
              "            + ' to learn more about interactive tables.';\n",
              "          element.innerHTML = '';\n",
              "          dataTable['output_type'] = 'display_data';\n",
              "          await google.colab.output.renderOutput(dataTable, element);\n",
              "          const docLink = document.createElement('div');\n",
              "          docLink.innerHTML = docLinkHtml;\n",
              "          element.appendChild(docLink);\n",
              "        }\n",
              "      </script>\n",
              "    </div>\n",
              "  </div>\n",
              "  "
            ]
          },
          "metadata": {},
          "execution_count": 11
        }
      ]
    },
    {
      "cell_type": "markdown",
      "source": [
        "**Feature extraction**"
      ],
      "metadata": {
        "id": "e-dk0tNtplCB"
      }
    },
    {
      "cell_type": "code",
      "execution_count": null,
      "metadata": {
        "id": "wNyWemLf1ejq"
      },
      "outputs": [],
      "source": [
        "from sklearn.feature_extraction.text import TfidfVectorizer\n",
        "\n",
        "text_vectorizer = TfidfVectorizer()\n",
        "keyword_vectorizer = TfidfVectorizer()"
      ]
    },
    {
      "cell_type": "code",
      "execution_count": null,
      "metadata": {
        "id": "OuX914qGkNOJ"
      },
      "outputs": [],
      "source": [
        "#Vectorizing the text using Tfidf\n",
        "\n",
        "joined_train = train_df['text'].apply(' '.join)\n",
        "keyword_train_vectors = keyword_vectorizer.fit_transform(train_df.keyword)\n",
        "text_train_vectors = text_vectorizer.fit_transform(joined_train)\n",
        "\n",
        "joined_test = test_df['text'].apply(' '.join)\n",
        "keyword_test_vectors = keyword_vectorizer.transform(test_df.keyword)\n",
        "text_test_vectors = text_vectorizer.transform(joined_test)"
      ]
    },
    {
      "cell_type": "code",
      "execution_count": null,
      "metadata": {
        "id": "luNCgdNmkfUp"
      },
      "outputs": [],
      "source": [
        "#Creating the feature matrix and splitting into training and validation data\n",
        "\n",
        "from scipy.sparse import csr_matrix, hstack\n",
        "from sklearn.model_selection import train_test_split\n",
        "\n",
        "X_train, X_val, Y_train, Y_val = train_test_split(hstack([keyword_train_vectors, text_train_vectors]), train_df[\"target\"], random_state=12)\n",
        "X_test = hstack([keyword_test_vectors, text_test_vectors])"
      ]
    },
    {
      "cell_type": "markdown",
      "source": [
        "**Testing base models**"
      ],
      "metadata": {
        "id": "ruwW-QrzqDlZ"
      }
    },
    {
      "cell_type": "code",
      "execution_count": null,
      "metadata": {
        "id": "fLzGU-_cKVHv"
      },
      "outputs": [],
      "source": [
        "from sklearn.model_selection import cross_validate\n",
        "\n",
        "def get_classifier_cv_score(model, X, y, scoring, cv):\n",
        "  scores = cross_validate(model, X, y, cv=cv, scoring=scoring, return_train_score=True)\n",
        "    \n",
        "  mean_train_score = scores[\"train_score\"].mean()\n",
        "  mean_val_score = scores[\"test_score\"].mean()\n",
        "    \n",
        "  return mean_train_score, mean_val_score"
      ]
    },
    {
      "cell_type": "code",
      "execution_count": null,
      "metadata": {
        "id": "2h08hUvGKXvK",
        "colab": {
          "base_uri": "https://localhost:8080/"
        },
        "outputId": "603f4c39-f454-4c08-86b9-af3da0e73cee"
      },
      "outputs": [
        {
          "output_type": "stream",
          "name": "stdout",
          "text": [
            "Sorted Average Results Based on Validation Score:\n",
            "\n",
            "BernoulliNB() : training score  = 0.879\n",
            "BernoulliNB() : validation score = 0.752\n",
            "\n",
            "\n",
            "LinearSVC() : training score  = 0.985\n",
            "LinearSVC() : validation score = 0.748\n",
            "\n",
            "\n",
            "RidgeClassifier() : training score  = 0.962\n",
            "RidgeClassifier() : validation score = 0.747\n",
            "\n",
            "\n",
            "SGDClassifier(random_state=12) : training score  = 0.967\n",
            "SGDClassifier(random_state=12) : validation score = 0.747\n",
            "\n",
            "\n",
            "LogisticRegression() : training score  = 0.862\n",
            "LogisticRegression() : validation score = 0.739\n",
            "\n",
            "\n",
            "MultinomialNB() : training score  = 0.842\n",
            "MultinomialNB() : validation score = 0.739\n",
            "\n",
            "\n",
            "MLPClassifier(hidden_layer_sizes=(10,)) : training score  = 0.997\n",
            "MLPClassifier(hidden_layer_sizes=(10,)) : validation score = 0.725\n",
            "\n",
            "\n"
          ]
        }
      ],
      "source": [
        "from sklearn.linear_model import RidgeClassifier\n",
        "from sklearn.linear_model import LogisticRegression\n",
        "from sklearn.naive_bayes import BernoulliNB\n",
        "from sklearn.naive_bayes import MultinomialNB\n",
        "from sklearn.linear_model import SGDClassifier\n",
        "from sklearn.svm import LinearSVC\n",
        "from sklearn.neural_network import MLPClassifier\n",
        "\n",
        "scores_tup = []\n",
        "\n",
        "model_list=[RidgeClassifier(), LogisticRegression(), BernoulliNB(), MultinomialNB(), SGDClassifier(random_state=12), LinearSVC(), MLPClassifier(hidden_layer_sizes=(10,), max_iter = 200)]\n",
        "\n",
        "for models in model_list:\n",
        "    \n",
        "            training_score, validation_score = get_classifier_cv_score(models, X_train, Y_train, scoring='f1', cv=10);\n",
        "     \n",
        "            scores_tup.append([models, training_score, validation_score]);\n",
        "\n",
        "            scores_tup=sorted(scores_tup, key = lambda x: x[2], reverse =True )\n",
        "\n",
        "print(\"Sorted Average Results Based on Validation Score:\\n\")\n",
        "\n",
        "for scores in scores_tup:\n",
        "                \n",
        "        print(scores[0], \": training score  = {:.3f}\".format(scores[1]))\n",
        "        print(scores[0], \": validation score = {:.3f}\".format(scores[2]))\n",
        "        print(\"\\n\")"
      ]
    },
    {
      "cell_type": "markdown",
      "source": [
        "**Optimizing the top three models using grid search**"
      ],
      "metadata": {
        "id": "StcsY9TcqPCA"
      }
    },
    {
      "cell_type": "code",
      "execution_count": null,
      "metadata": {
        "id": "srGzBaRbKcCK",
        "colab": {
          "base_uri": "https://localhost:8080/"
        },
        "outputId": "4076fea5-c02a-48fb-b9b2-4dd3b3e0535f"
      },
      "outputs": [
        {
          "output_type": "stream",
          "name": "stdout",
          "text": [
            "Fitting 10 folds for each of 5 candidates, totalling 50 fits\n",
            "{'alpha': 0.1}\n",
            "0.7658112152963166\n"
          ]
        }
      ],
      "source": [
        "from sklearn.model_selection import GridSearchCV\n",
        "#Optimization of BernoulliNB\n",
        "\n",
        "bnb_params = {'alpha': [0.001, 0.01, 0.1, 1, 10]}\n",
        "\n",
        "bnb_grid = GridSearchCV(BernoulliNB(), bnb_params, scoring='f1', cv=10, verbose=1)\n",
        "bnb_grid.fit(X_train, Y_train)\n",
        "\n",
        "print(bnb_grid.best_params_)\n",
        "print(bnb_grid.best_score_)"
      ]
    },
    {
      "cell_type": "code",
      "execution_count": null,
      "metadata": {
        "id": "MpVeoKcRKfjp",
        "colab": {
          "base_uri": "https://localhost:8080/"
        },
        "outputId": "c582f2e2-2128-4196-93da-b6cf736372a7"
      },
      "outputs": [
        {
          "output_type": "stream",
          "name": "stdout",
          "text": [
            "Fitting 10 folds for each of 10 candidates, totalling 100 fits\n",
            "{'alpha': 1, 'fit_intercept': False}\n",
            "0.7497336610459008\n"
          ]
        }
      ],
      "source": [
        "#Optimization of RidgeClassifier\n",
        "\n",
        "ridge_params = {'alpha': [0.001, 0.01, 0.1, 1, 10],\n",
        "                'fit_intercept': [True, False]}\n",
        "\n",
        "ridge_grid = GridSearchCV(RidgeClassifier(), ridge_params, scoring='f1', cv=10, verbose=1)\n",
        "ridge_grid.fit(X_train, Y_train)\n",
        "\n",
        "print(ridge_grid.best_params_)\n",
        "print(ridge_grid.best_score_)"
      ]
    },
    {
      "cell_type": "code",
      "source": [
        "#Optimization of LinearSVC\n",
        "\n",
        "lsvc_params = {'C': [0.001, 0.01, 0.1, 1, 10],\n",
        "               'loss': ['hinge', 'squared_hinge'],\n",
        "               'fit_intercept': [True, False],\n",
        "               'max_iter': [4000]}\n",
        "\n",
        "lsvc_grid = GridSearchCV(LinearSVC(), lsvc_params, scoring='f1', cv=10, verbose=1)\n",
        "lsvc_grid.fit(X_train, Y_train)\n",
        "\n",
        "print(lsvc_grid.best_params_)\n",
        "print(lsvc_grid.best_score_)"
      ],
      "metadata": {
        "colab": {
          "base_uri": "https://localhost:8080/"
        },
        "id": "eC8M3axrhcGe",
        "outputId": "5d173a52-6337-4694-e020-198d803df899"
      },
      "execution_count": null,
      "outputs": [
        {
          "output_type": "stream",
          "name": "stdout",
          "text": [
            "Fitting 10 folds for each of 20 candidates, totalling 200 fits\n",
            "{'C': 1, 'fit_intercept': False, 'loss': 'hinge', 'max_iter': 4000}\n",
            "0.7518336541954891\n"
          ]
        }
      ]
    },
    {
      "cell_type": "markdown",
      "source": [
        "**Retraining of the best model with optimized parameters**"
      ],
      "metadata": {
        "id": "zTtlp3KlqnYD"
      }
    },
    {
      "cell_type": "code",
      "execution_count": null,
      "metadata": {
        "id": "RLeOcVYmKhqK"
      },
      "outputs": [],
      "source": [
        "# Retrain BernoulliNB with optimized hyperparameters\n",
        "\n",
        "best_model = BernoulliNB(alpha=0.1)\n",
        "\n",
        "best_model.fit(X_train, Y_train)\n",
        "Y_pred = best_model.predict(X_val)"
      ]
    },
    {
      "cell_type": "markdown",
      "source": [
        "**Viewing the results of the prediction on the validation set**"
      ],
      "metadata": {
        "id": "DYlaRoe2rfin"
      }
    },
    {
      "cell_type": "code",
      "execution_count": null,
      "metadata": {
        "id": "fmQCL0NsKkZx",
        "colab": {
          "base_uri": "https://localhost:8080/"
        },
        "outputId": "e2835934-a784-478d-8b6b-77adf26115e7"
      },
      "outputs": [
        {
          "output_type": "stream",
          "name": "stdout",
          "text": [
            "              precision    recall  f1-score   support\n",
            "\n",
            "           0       0.80      0.85      0.83      1109\n",
            "           1       0.77      0.71      0.74       795\n",
            "\n",
            "    accuracy                           0.79      1904\n",
            "   macro avg       0.79      0.78      0.78      1904\n",
            "weighted avg       0.79      0.79      0.79      1904\n",
            "\n"
          ]
        }
      ],
      "source": [
        "from sklearn.metrics import classification_report\n",
        "\n",
        "print(classification_report(Y_val, Y_pred))"
      ]
    },
    {
      "cell_type": "code",
      "source": [
        "def plot_confusion_mat(y_actual, y_pred, labels, title=''):\n",
        "  mat = confusion_matrix(y_actual, y_pred)\n",
        "\n",
        "  sns.heatmap(mat, square=True, cmap=\"viridis\", annot=True, xticklabels = labels, yticklabels = labels, fmt='g')\n",
        "  plt.xlabel('predicted value')\n",
        "  plt.ylabel('true value');\n",
        "  plt.title(title);"
      ],
      "metadata": {
        "id": "qlvB5nTlrUxS"
      },
      "execution_count": null,
      "outputs": []
    },
    {
      "cell_type": "code",
      "source": [
        "plot_confusion_mat(Y_val, Y_pred,[0,1],'Confusion Matrix');"
      ],
      "metadata": {
        "colab": {
          "base_uri": "https://localhost:8080/",
          "height": 295
        },
        "id": "vZaHaEszrYNK",
        "outputId": "b56130cf-678c-4b10-f51b-67ce2c160ab7"
      },
      "execution_count": null,
      "outputs": [
        {
          "output_type": "display_data",
          "data": {
            "text/plain": [
              "<Figure size 432x288 with 2 Axes>"
            ],
            "image/png": "[encoded data removed]"
          },
          "metadata": {
            "needs_background": "light"
          }
        }
      ]
    },
    {
      "cell_type": "markdown",
      "source": [
        "**Creating the submission file for the Kaggle competition**"
      ],
      "metadata": {
        "id": "CddVNIiurmcy"
      }
    },
    {
      "cell_type": "code",
      "execution_count": null,
      "metadata": {
        "id": "6voHwWoIKnBh",
        "colab": {
          "base_uri": "https://localhost:8080/",
          "height": 206
        },
        "outputId": "9edea606-aca5-41e4-957a-a223ac59acc8"
      },
      "outputs": [
        {
          "output_type": "execute_result",
          "data": {
            "text/plain": [
              "   id  target\n",
              "0   0       0\n",
              "1   2       0\n",
              "2   3       1\n",
              "3   9       0\n",
              "4  11       1"
            ],
            "text/html": [
              "\n",
              "  <div id=\"df-c120021b-5d62-420b-bcf3-21bb35a42468\">\n",
              "    <div class=\"colab-df-container\">\n",
              "      <div>\n",
              "<style scoped>\n",
              "    .dataframe tbody tr th:only-of-type {\n",
              "        vertical-align: middle;\n",
              "    }\n",
              "\n",
              "    .dataframe tbody tr th {\n",
              "        vertical-align: top;\n",
              "    }\n",
              "\n",
              "    .dataframe thead th {\n",
              "        text-align: right;\n",
              "    }\n",
              "</style>\n",
              "<table border=\"1\" class=\"dataframe\">\n",
              "  <thead>\n",
              "    <tr style=\"text-align: right;\">\n",
              "      <th></th>\n",
              "      <th>id</th>\n",
              "      <th>target</th>\n",
              "    </tr>\n",
              "  </thead>\n",
              "  <tbody>\n",
              "    <tr>\n",
              "      <th>0</th>\n",
              "      <td>0</td>\n",
              "      <td>0</td>\n",
              "    </tr>\n",
              "    <tr>\n",
              "      <th>1</th>\n",
              "      <td>2</td>\n",
              "      <td>0</td>\n",
              "    </tr>\n",
              "    <tr>\n",
              "      <th>2</th>\n",
              "      <td>3</td>\n",
              "      <td>1</td>\n",
              "    </tr>\n",
              "    <tr>\n",
              "      <th>3</th>\n",
              "      <td>9</td>\n",
              "      <td>0</td>\n",
              "    </tr>\n",
              "    <tr>\n",
              "      <th>4</th>\n",
              "      <td>11</td>\n",
              "      <td>1</td>\n",
              "    </tr>\n",
              "  </tbody>\n",
              "</table>\n",
              "</div>\n",
              "      <button class=\"colab-df-convert\" onclick=\"convertToInteractive('df-c120021b-5d62-420b-bcf3-21bb35a42468')\"\n",
              "              title=\"Convert this dataframe to an interactive table.\"\n",
              "              style=\"display:none;\">\n",
              "        \n",
              "  <svg xmlns=\"http://www.w3.org/2000/svg\" height=\"24px\"viewBox=\"0 0 24 24\"\n",
              "       width=\"24px\">\n",
              "    <path d=\"M0 0h24v24H0V0z\" fill=\"none\"/>\n",
              "    <path d=\"M18.56 5.44l.94 2.06.94-2.06 2.06-.94-2.06-.94-.94-2.06-.94 2.06-2.06.94zm-11 1L8.5 8.5l.94-2.06 2.06-.94-2.06-.94L8.5 2.5l-.94 2.06-2.06.94zm10 10l.94 2.06.94-2.06 2.06-.94-2.06-.94-.94-2.06-.94 2.06-2.06.94z\"/><path d=\"M17.41 7.96l-1.37-1.37c-.4-.4-.92-.59-1.43-.59-.52 0-1.04.2-1.43.59L10.3 9.45l-7.72 7.72c-.78.78-.78 2.05 0 2.83L4 21.41c.39.39.9.59 1.41.59.51 0 1.02-.2 1.41-.59l7.78-7.78 2.81-2.81c.8-.78.8-2.07 0-2.86zM5.41 20L4 18.59l7.72-7.72 1.47 1.35L5.41 20z\"/>\n",
              "  </svg>\n",
              "      </button>\n",
              "      \n",
              "  <style>\n",
              "    .colab-df-container {\n",
              "      display:flex;\n",
              "      flex-wrap:wrap;\n",
              "      gap: 12px;\n",
              "    }\n",
              "\n",
              "    .colab-df-convert {\n",
              "      background-color: #E8F0FE;\n",
              "      border: none;\n",
              "      border-radius: 50%;\n",
              "      cursor: pointer;\n",
              "      display: none;\n",
              "      fill: #1967D2;\n",
              "      height: 32px;\n",
              "      padding: 0 0 0 0;\n",
              "      width: 32px;\n",
              "    }\n",
              "\n",
              "    .colab-df-convert:hover {\n",
              "      background-color: #E2EBFA;\n",
              "      box-shadow: 0px 1px 2px rgba(60, 64, 67, 0.3), 0px 1px 3px 1px rgba(60, 64, 67, 0.15);\n",
              "      fill: #174EA6;\n",
              "    }\n",
              "\n",
              "    [theme=dark] .colab-df-convert {\n",
              "      background-color: #3B4455;\n",
              "      fill: #D2E3FC;\n",
              "    }\n",
              "\n",
              "    [theme=dark] .colab-df-convert:hover {\n",
              "      background-color: #434B5C;\n",
              "      box-shadow: 0px 1px 3px 1px rgba(0, 0, 0, 0.15);\n",
              "      filter: drop-shadow(0px 1px 2px rgba(0, 0, 0, 0.3));\n",
              "      fill: #FFFFFF;\n",
              "    }\n",
              "  </style>\n",
              "\n",
              "      <script>\n",
              "        const buttonEl =\n",
              "          document.querySelector('#df-c120021b-5d62-420b-bcf3-21bb35a42468 button.colab-df-convert');\n",
              "        buttonEl.style.display =\n",
              "          google.colab.kernel.accessAllowed ? 'block' : 'none';\n",
              "\n",
              "        async function convertToInteractive(key) {\n",
              "          const element = document.querySelector('#df-c120021b-5d62-420b-bcf3-21bb35a42468');\n",
              "          const dataTable =\n",
              "            await google.colab.kernel.invokeFunction('convertToInteractive',\n",
              "                                                     [key], {});\n",
              "          if (!dataTable) return;\n",
              "\n",
              "          const docLinkHtml = 'Like what you see? Visit the ' +\n",
              "            '<a target=\"_blank\" href=https://colab.research.google.com/notebooks/data_table.ipynb>data table notebook</a>'\n",
              "            + ' to learn more about interactive tables.';\n",
              "          element.innerHTML = '';\n",
              "          dataTable['output_type'] = 'display_data';\n",
              "          await google.colab.output.renderOutput(dataTable, element);\n",
              "          const docLink = document.createElement('div');\n",
              "          docLink.innerHTML = docLinkHtml;\n",
              "          element.appendChild(docLink);\n",
              "        }\n",
              "      </script>\n",
              "    </div>\n",
              "  </div>\n",
              "  "
            ]
          },
          "metadata": {},
          "execution_count": 24
        }
      ],
      "source": [
        "submission = pd.read_csv(\"/content/ENEL645/sample_submission.csv\")\n",
        "submission[\"target\"] = best_model.predict(X_test)\n",
        "submission.head()"
      ]
    },
    {
      "cell_type": "code",
      "execution_count": null,
      "metadata": {
        "id": "PASvpMKGKsbk"
      },
      "outputs": [],
      "source": [
        "submission.to_csv(\"submission.csv\", index=False)"
      ]
    }
  ],
  "metadata": {
    "colab": {
      "collapsed_sections": [],
      "name": "645_ProjectV3.ipynb",
      "provenance": [],
      "include_colab_link": true
    },
    "kernelspec": {
      "display_name": "Python 3 (ipykernel)",
      "language": "python",
      "name": "python3"
    },
    "language_info": {
      "codemirror_mode": {
        "name": "ipython",
        "version": 3
      },
      "file_extension": ".py",
      "mimetype": "text/x-python",
      "name": "python",
      "nbconvert_exporter": "python",
      "pygments_lexer": "ipython3",
      "version": "3.8.8"
    }
  },
  "nbformat": 4,
  "nbformat_minor": 0
}